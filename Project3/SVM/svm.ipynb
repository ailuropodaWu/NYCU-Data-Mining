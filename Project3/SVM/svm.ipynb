{
 "cells": [
  {
   "cell_type": "code",
   "execution_count": 9,
   "metadata": {},
   "outputs": [],
   "source": [
    "import pandas as pd\n",
    "import numpy as np\n",
    "import sys\n",
    "from sklearn.svm import SVC\n",
    "from sklearn.ensemble import RandomForestClassifier\n",
    "from sklearn.metrics import mean_squared_error, roc_auc_score\n",
    "from sklearn.preprocessing import StandardScaler\n",
    "\n",
    "sys.path.append('..')\n",
    "\n",
    "from utils import save2csv\n",
    "\n",
    "from sklearn import random\n",
    "random.seed(0)"
   ]
  },
  {
   "cell_type": "code",
   "execution_count": 18,
   "metadata": {},
   "outputs": [
    {
     "name": "stdout",
     "output_type": "stream",
     "text": [
      "0.6999958333333334\n"
     ]
    }
   ],
   "source": [
    "# Load your data\n",
    "train_data = pd.read_csv('../data/train.csv')\n",
    "test_data = pd.read_csv('../data/test.csv')\n",
    "\n",
    "# Assume the last column is the label\n",
    "X_train = train_data.iloc[:, 1:].values\n",
    "y_train = train_data.iloc[:, 0].values\n",
    "X_test = test_data.iloc[:, 1:].values\n",
    "y_test = test_data.iloc[:, 0].values\n",
    "\n",
    "# Standardize the data\n",
    "scaler = StandardScaler()\n",
    "X_train = scaler.fit_transform(X_train)\n",
    "X_test = scaler.transform(X_test)\n",
    "\n",
    "# Train a classifier\n",
    "kernel = 'rbf'\n",
    "model_info = f'kernel_{kernel}'\n",
    "\n",
    "clf = SVC(kernel=kernel, C=4, degree=5)\n",
    "clf.fit(X_train, y_train)\n",
    "\n",
    "# Predict probabilities for the test set\n",
    "probs = clf.decision_function(X_test)\n",
    "\n",
    "# Calculate MSE for each test data point\n",
    "mse_values = []\n",
    "for prob in probs:\n",
    "    mse = 1 / mean_squared_error(prob, np.full_like(prob, 1/len(clf.classes_)))\n",
    "    mse_values.append(mse)\n",
    "\n",
    "labels = list(train_data.groupby('lettr').groups.keys())\n",
    "y_test = np.array([int(y not in labels) for y in y_test])\n",
    "\n",
    "print(roc_auc_score(y_test, mse_values))\n",
    "\n",
    "save2csv(mse_values, f'./svm_{model_info}_result.csv')\n"
   ]
  },
  {
   "cell_type": "code",
   "execution_count": 13,
   "metadata": {},
   "outputs": [
    {
     "name": "stdout",
     "output_type": "stream",
     "text": [
      "30_gini\n",
      "0.9663437500000001\n"
     ]
    }
   ],
   "source": [
    "# Load your data\n",
    "train_data = pd.read_csv('../data/train.csv')\n",
    "test_data = pd.read_csv('../data/test.csv')\n",
    "\n",
    "# Assume the last column is the label\n",
    "X_train = train_data.iloc[:, 1:].values\n",
    "y_train = train_data.iloc[:, 0].values\n",
    "X_test = test_data.iloc[:, 1:].values\n",
    "y_test = test_data.iloc[:, 0].values\n",
    "\n",
    "# Standardize the data\n",
    "scaler = StandardScaler()\n",
    "X_train = scaler.fit_transform(X_train)\n",
    "X_test = scaler.transform(X_test)\n",
    "\n",
    "# Train a classifier\n",
    "n_estimator = 30\n",
    "criterion = 'gini'\n",
    "model_info = f'{n_estimator}_{criterion}'\n",
    "print(model_info)\n",
    "\n",
    "clf = RandomForestClassifier(n_estimator, criterion=criterion)\n",
    "clf.fit(X_train, y_train)\n",
    "\n",
    "\n",
    "# Predict probabilities for the test set\n",
    "probs = clf.predict_proba(X_test)\n",
    "\n",
    "# Calculate MSE for each test data point\n",
    "mse_values = []\n",
    "for prob in probs:\n",
    "    mse = 1 / mean_squared_error(prob, np.full_like(prob, 1/len(clf.classes_)))\n",
    "    mse_values.append(mse)\n",
    "\n",
    "labels = list(train_data.groupby('lettr').groups.keys())\n",
    "y_test = np.array([int(y not in labels) for y in y_test])\n",
    "\n",
    "print(roc_auc_score(y_test, mse_values))\n",
    "\n",
    "save2csv(mse_values, f'./random_forest_{model_info}_result.csv')\n"
   ]
  }
 ],
 "metadata": {
  "kernelspec": {
   "display_name": "dm-pat",
   "language": "python",
   "name": "python3"
  },
  "language_info": {
   "codemirror_mode": {
    "name": "ipython",
    "version": 3
   },
   "file_extension": ".py",
   "mimetype": "text/x-python",
   "name": "python",
   "nbconvert_exporter": "python",
   "pygments_lexer": "ipython3",
   "version": "3.10.14"
  }
 },
 "nbformat": 4,
 "nbformat_minor": 2
}
